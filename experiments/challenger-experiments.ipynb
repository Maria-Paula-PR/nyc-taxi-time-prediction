{
 "cells": [
  {
   "cell_type": "code",
   "execution_count": 1,
   "metadata": {},
   "outputs": [],
   "source": [
    "import pickle\n",
    "import pandas as pd\n",
    "from sklearn.metrics import  root_mean_squared_error\n",
    "from sklearn.feature_extraction import  DictVectorizer\n",
    "from sklearn.linear_model import Lasso, Ridge, LinearRegression"
   ]
  },
  {
   "cell_type": "code",
   "execution_count": 2,
   "metadata": {},
   "outputs": [],
   "source": [
    "def read_dataframe(filename):\n",
    "\n",
    "    df = pd.read_parquet(filename)\n",
    "\n",
    "    df['duration'] = df.lpep_dropoff_datetime - df.lpep_pickup_datetime\n",
    "    df.duration = df.duration.apply(lambda td: td.total_seconds() / 60)\n",
    "\n",
    "    df = df[(df.duration >= 1) & (df.duration <= 60)]\n",
    "\n",
    "    categorical = ['PULocationID', 'DOLocationID']\n",
    "    df[categorical] = df[categorical].astype(str)\n",
    "\n",
    "    return df"
   ]
  },
  {
   "cell_type": "code",
   "execution_count": 3,
   "metadata": {},
   "outputs": [],
   "source": [
    "df_train = read_dataframe('../data/green_tripdata_2024-01.parquet')\n",
    "df_val = read_dataframe('../data/green_tripdata_2024-02.parquet')"
   ]
  },
  {
   "cell_type": "code",
   "execution_count": 4,
   "metadata": {},
   "outputs": [],
   "source": [
    "#feature\n",
    "df_train['PU_DO'] = df_train['PULocationID'] + '_' + df_train['DOLocationID']\n",
    "df_val['PU_DO'] = df_val['PULocationID'] + '_' + df_val['DOLocationID']"
   ]
  },
  {
   "cell_type": "code",
   "execution_count": 5,
   "metadata": {},
   "outputs": [],
   "source": [
    "#one hot\n",
    "categorical = ['PU_DO']  #'PULocationID', 'DOLocationID']\n",
    "numerical = ['trip_distance']\n",
    "dv = DictVectorizer()\n",
    "\n",
    "train_dicts = df_train[categorical + numerical].to_dict(orient='records')\n",
    "X_train = dv.fit_transform(train_dicts)\n",
    "\n",
    "val_dicts = df_val[categorical + numerical].to_dict(orient='records')\n",
    "X_val = dv.transform(val_dicts)"
   ]
  },
  {
   "cell_type": "code",
   "execution_count": 6,
   "metadata": {},
   "outputs": [],
   "source": [
    "target = 'duration'\n",
    "y_train = df_train[target].values\n",
    "y_val = df_val[target].values"
   ]
  },
  {
   "cell_type": "code",
   "execution_count": 7,
   "metadata": {},
   "outputs": [
    {
     "data": {
      "text/html": [
       "<pre style=\"white-space:pre;overflow-x:auto;line-height:normal;font-family:Menlo,'DejaVu Sans Mono',consolas,'Courier New',monospace\">Accessing as Maria-Paula-PR\n",
       "</pre>\n"
      ],
      "text/plain": [
       "Accessing as Maria-Paula-PR\n"
      ]
     },
     "metadata": {},
     "output_type": "display_data"
    },
    {
     "data": {
      "text/html": [
       "<pre style=\"white-space:pre;overflow-x:auto;line-height:normal;font-family:Menlo,'DejaVu Sans Mono',consolas,'Courier New',monospace\">Initialized MLflow to track repo <span style=\"color: #008000; text-decoration-color: #008000\">\"Maria-Paula-PR/nyc-taxi-time-prediction\"</span>\n",
       "</pre>\n"
      ],
      "text/plain": [
       "Initialized MLflow to track repo \u001b[32m\"Maria-Paula-PR/nyc-taxi-time-prediction\"\u001b[0m\n"
      ]
     },
     "metadata": {},
     "output_type": "display_data"
    },
    {
     "data": {
      "text/html": [
       "<pre style=\"white-space:pre;overflow-x:auto;line-height:normal;font-family:Menlo,'DejaVu Sans Mono',consolas,'Courier New',monospace\">Repository Maria-Paula-PR/nyc-taxi-time-prediction initialized!\n",
       "</pre>\n"
      ],
      "text/plain": [
       "Repository Maria-Paula-PR/nyc-taxi-time-prediction initialized!\n"
      ]
     },
     "metadata": {},
     "output_type": "display_data"
    },
    {
     "name": "stdout",
     "output_type": "stream",
     "text": [
      "https://dagshub.com/Maria-Paula-PR/nyc-taxi-time-prediction.mlflow\n"
     ]
    },
    {
     "data": {
      "text/plain": [
       "<Experiment: artifact_location='mlflow-artifacts:/466268d3d8d74b46943efeddea55f2b9', creation_time=1726632002450, experiment_id='1', last_update_time=1726632002450, lifecycle_stage='active', name='nyc-taxi-experiment', tags={}>"
      ]
     },
     "execution_count": 7,
     "metadata": {},
     "output_type": "execute_result"
    }
   ],
   "source": [
    "import dagshub\n",
    "import mlflow\n",
    "\n",
    "\n",
    "dagshub.init(url=\"https://dagshub.com/Maria-Paula-PR/nyc-taxi-time-prediction\", mlflow=True)\n",
    "\n",
    "MLFLOW_TRACKING_URI = mlflow.get_tracking_uri()\n",
    "\n",
    "print(MLFLOW_TRACKING_URI)\n",
    "\n",
    "mlflow.set_tracking_uri(MLFLOW_TRACKING_URI)\n",
    "mlflow.set_experiment(experiment_name=\"nyc-taxi-experiment\")"
   ]
  },
  {
   "cell_type": "code",
   "execution_count": 8,
   "metadata": {},
   "outputs": [],
   "source": [
    "training_dataset = mlflow.data.from_numpy(X_train.data, targets=y_train, name=\"green_tripdata_2024-01\")\n",
    "validation_dataset = mlflow.data.from_numpy(X_val.data, targets=y_val, name=\"green_tripdata_2024-02\")"
   ]
  },
  {
   "cell_type": "code",
   "execution_count": 9,
   "metadata": {},
   "outputs": [],
   "source": [
    "from sklearn.metrics import  root_mean_squared_error\n",
    "from sklearn.feature_extraction import  DictVectorizer\n",
    "from sklearn.linear_model import Lasso, Ridge, LinearRegression\n",
    "from sklearn.ensemble import RandomForestRegressor\n",
    "from sklearn.metrics import mean_squared_error\n",
    "from hyperopt import fmin, tpe, hp, STATUS_OK, Trials\n",
    "import numpy as np\n",
    " "
   ]
  },
  {
   "cell_type": "markdown",
   "metadata": {},
   "source": [
    "# random forest"
   ]
  },
  {
   "cell_type": "code",
   "execution_count": 12,
   "metadata": {},
   "outputs": [
    {
     "name": "stderr",
     "output_type": "stream",
     "text": [
      "2024/09/20 15:44:37 WARNING mlflow.utils.autologging_utils: MLflow sklearn autologging is known to be compatible with 0.24.1 <= scikit-learn <= 1.5.1, but the installed version is 1.5.2. If you encounter errors during autologging, try upgrading / downgrading scikit-learn to a compatible version, or try upgrading MLflow.\n"
     ]
    },
    {
     "name": "stdout",
     "output_type": "stream",
     "text": [
      "  0%|          | 0/10 [00:00<?, ?trial/s, best loss=?]"
     ]
    },
    {
     "name": "stderr",
     "output_type": "stream",
     "text": [
      "2024/09/20 15:44:38 WARNING mlflow.sklearn: Failed to log training dataset information to MLflow Tracking. Reason: 'numpy.ndarray' object has no attribute 'toarray'\n",
      "\n",
      "2024/09/20 15:44:52 WARNING mlflow.utils.autologging_utils: Encountered unexpected error during sklearn autologging: The following failures occurred while performing one or more logging operations: [MlflowException('Failed to perform one or more operations on the run with ID d1618bd4eb2d43b4962bce528517b9e7. Failed operations: [RestException(\"INVALID_PARAMETER_VALUE: Response: {\\'error_code\\': \\'INVALID_PARAMETER_VALUE\\'}\")]')]\n",
      "\n",
      "2024/09/20 15:44:52 INFO mlflow.tracking._tracking_service.client: 🏃 View run efficient-auk-173 at: https://dagshub.com/Maria-Paula-PR/nyc-taxi-time-prediction.mlflow/#/experiments/1/runs/d1618bd4eb2d43b4962bce528517b9e7.\n",
      "\n",
      "2024/09/20 15:44:52 INFO mlflow.tracking._tracking_service.client: 🧪 View experiment at: https://dagshub.com/Maria-Paula-PR/nyc-taxi-time-prediction.mlflow/#/experiments/1.\n",
      "\n"
     ]
    },
    {
     "name": "stdout",
     "output_type": "stream",
     "text": [
      " 10%|█         | 1/10 [00:14<02:14, 14.99s/trial, best loss: 5.542766364570989]"
     ]
    },
    {
     "name": "stderr",
     "output_type": "stream",
     "text": [
      "2024/09/20 15:44:53 WARNING mlflow.sklearn: Failed to log training dataset information to MLflow Tracking. Reason: 'numpy.ndarray' object has no attribute 'toarray'\n",
      "\n",
      "2024/09/20 15:45:08 WARNING mlflow.utils.autologging_utils: Encountered unexpected error during sklearn autologging: The following failures occurred while performing one or more logging operations: [MlflowException('Failed to perform one or more operations on the run with ID 5a23da67b77141b589f3f6001844de6d. Failed operations: [RestException(\"INVALID_PARAMETER_VALUE: Response: {\\'error_code\\': \\'INVALID_PARAMETER_VALUE\\'}\")]')]\n",
      "\n",
      "2024/09/20 15:45:09 INFO mlflow.tracking._tracking_service.client: 🏃 View run skillful-chimp-991 at: https://dagshub.com/Maria-Paula-PR/nyc-taxi-time-prediction.mlflow/#/experiments/1/runs/5a23da67b77141b589f3f6001844de6d.\n",
      "\n",
      "2024/09/20 15:45:09 INFO mlflow.tracking._tracking_service.client: 🧪 View experiment at: https://dagshub.com/Maria-Paula-PR/nyc-taxi-time-prediction.mlflow/#/experiments/1.\n",
      "\n"
     ]
    },
    {
     "name": "stdout",
     "output_type": "stream",
     "text": [
      " 20%|██        | 2/10 [00:31<02:08, 16.11s/trial, best loss: 5.471769447414504]"
     ]
    },
    {
     "name": "stderr",
     "output_type": "stream",
     "text": [
      "2024/09/20 15:45:10 WARNING mlflow.sklearn: Failed to log training dataset information to MLflow Tracking. Reason: 'numpy.ndarray' object has no attribute 'toarray'\n",
      "\n",
      "2024/09/20 15:45:19 WARNING mlflow.utils.autologging_utils: Encountered unexpected error during sklearn autologging: The following failures occurred while performing one or more logging operations: [MlflowException('Failed to perform one or more operations on the run with ID 68a6ff4aa3fb45ae91db3968d4300019. Failed operations: [RestException(\"INVALID_PARAMETER_VALUE: Response: {\\'error_code\\': \\'INVALID_PARAMETER_VALUE\\'}\")]')]\n",
      "\n",
      "2024/09/20 15:45:21 INFO mlflow.tracking._tracking_service.client: 🏃 View run masked-stoat-259 at: https://dagshub.com/Maria-Paula-PR/nyc-taxi-time-prediction.mlflow/#/experiments/1/runs/68a6ff4aa3fb45ae91db3968d4300019.\n",
      "\n",
      "2024/09/20 15:45:21 INFO mlflow.tracking._tracking_service.client: 🧪 View experiment at: https://dagshub.com/Maria-Paula-PR/nyc-taxi-time-prediction.mlflow/#/experiments/1.\n",
      "\n"
     ]
    },
    {
     "name": "stdout",
     "output_type": "stream",
     "text": [
      " 30%|███       | 3/10 [00:43<01:38, 14.12s/trial, best loss: 5.471769447414504]"
     ]
    },
    {
     "name": "stderr",
     "output_type": "stream",
     "text": [
      "2024/09/20 15:45:23 WARNING mlflow.sklearn: Failed to log training dataset information to MLflow Tracking. Reason: 'numpy.ndarray' object has no attribute 'toarray'\n",
      "\n",
      "2024/09/20 15:45:35 WARNING mlflow.utils.autologging_utils: Encountered unexpected error during sklearn autologging: The following failures occurred while performing one or more logging operations: [MlflowException('Failed to perform one or more operations on the run with ID 9205e8fd98b34b9ab4139c651ef3aed9. Failed operations: [RestException(\"INVALID_PARAMETER_VALUE: Response: {\\'error_code\\': \\'INVALID_PARAMETER_VALUE\\'}\")]')]\n",
      "\n",
      "2024/09/20 15:45:35 INFO mlflow.tracking._tracking_service.client: 🏃 View run salty-wasp-538 at: https://dagshub.com/Maria-Paula-PR/nyc-taxi-time-prediction.mlflow/#/experiments/1/runs/9205e8fd98b34b9ab4139c651ef3aed9.\n",
      "\n",
      "2024/09/20 15:45:35 INFO mlflow.tracking._tracking_service.client: 🧪 View experiment at: https://dagshub.com/Maria-Paula-PR/nyc-taxi-time-prediction.mlflow/#/experiments/1.\n",
      "\n"
     ]
    },
    {
     "name": "stdout",
     "output_type": "stream",
     "text": [
      " 40%|████      | 4/10 [00:57<01:25, 14.19s/trial, best loss: 5.471769447414504]"
     ]
    },
    {
     "name": "stderr",
     "output_type": "stream",
     "text": [
      "2024/09/20 15:45:36 WARNING mlflow.sklearn: Failed to log training dataset information to MLflow Tracking. Reason: 'numpy.ndarray' object has no attribute 'toarray'\n",
      "\n",
      "2024/09/20 15:45:49 WARNING mlflow.utils.autologging_utils: Encountered unexpected error during sklearn autologging: The following failures occurred while performing one or more logging operations: [MlflowException('Failed to perform one or more operations on the run with ID 1219abe931a448748b047db9c145ce8b. Failed operations: [RestException(\"INVALID_PARAMETER_VALUE: Response: {\\'error_code\\': \\'INVALID_PARAMETER_VALUE\\'}\")]')]\n",
      "\n",
      "2024/09/20 15:45:49 INFO mlflow.tracking._tracking_service.client: 🏃 View run intrigued-eel-78 at: https://dagshub.com/Maria-Paula-PR/nyc-taxi-time-prediction.mlflow/#/experiments/1/runs/1219abe931a448748b047db9c145ce8b.\n",
      "\n",
      "2024/09/20 15:45:49 INFO mlflow.tracking._tracking_service.client: 🧪 View experiment at: https://dagshub.com/Maria-Paula-PR/nyc-taxi-time-prediction.mlflow/#/experiments/1.\n",
      "\n"
     ]
    },
    {
     "name": "stdout",
     "output_type": "stream",
     "text": [
      " 50%|█████     | 5/10 [01:12<01:11, 14.24s/trial, best loss: 5.471769447414504]"
     ]
    },
    {
     "name": "stderr",
     "output_type": "stream",
     "text": [
      "2024/09/20 15:45:50 WARNING mlflow.sklearn: Failed to log training dataset information to MLflow Tracking. Reason: 'numpy.ndarray' object has no attribute 'toarray'\n",
      "\n",
      "2024/09/20 15:46:03 WARNING mlflow.utils.autologging_utils: Encountered unexpected error during sklearn autologging: The following failures occurred while performing one or more logging operations: [MlflowException('Failed to perform one or more operations on the run with ID 03e4c88a6ebf49c78b82fef3654d8143. Failed operations: [RestException(\"INVALID_PARAMETER_VALUE: Response: {\\'error_code\\': \\'INVALID_PARAMETER_VALUE\\'}\")]')]\n",
      "\n",
      "2024/09/20 15:46:04 INFO mlflow.tracking._tracking_service.client: 🏃 View run angry-koi-97 at: https://dagshub.com/Maria-Paula-PR/nyc-taxi-time-prediction.mlflow/#/experiments/1/runs/03e4c88a6ebf49c78b82fef3654d8143.\n",
      "\n",
      "2024/09/20 15:46:04 INFO mlflow.tracking._tracking_service.client: 🧪 View experiment at: https://dagshub.com/Maria-Paula-PR/nyc-taxi-time-prediction.mlflow/#/experiments/1.\n",
      "\n"
     ]
    },
    {
     "name": "stdout",
     "output_type": "stream",
     "text": [
      " 60%|██████    | 6/10 [01:27<00:57, 14.49s/trial, best loss: 5.450624636267601]"
     ]
    },
    {
     "name": "stderr",
     "output_type": "stream",
     "text": [
      "2024/09/20 15:46:05 WARNING mlflow.sklearn: Failed to log training dataset information to MLflow Tracking. Reason: 'numpy.ndarray' object has no attribute 'toarray'\n",
      "\n",
      "2024/09/20 15:46:15 WARNING mlflow.utils.autologging_utils: Encountered unexpected error during sklearn autologging: The following failures occurred while performing one or more logging operations: [MlflowException('Failed to perform one or more operations on the run with ID 602909b1cc364fb3a19d1d1a9b92abbc. Failed operations: [RestException(\"INVALID_PARAMETER_VALUE: Response: {\\'error_code\\': \\'INVALID_PARAMETER_VALUE\\'}\")]')]\n",
      "\n",
      "2024/09/20 15:46:16 INFO mlflow.tracking._tracking_service.client: 🏃 View run peaceful-trout-512 at: https://dagshub.com/Maria-Paula-PR/nyc-taxi-time-prediction.mlflow/#/experiments/1/runs/602909b1cc364fb3a19d1d1a9b92abbc.\n",
      "\n",
      "2024/09/20 15:46:16 INFO mlflow.tracking._tracking_service.client: 🧪 View experiment at: https://dagshub.com/Maria-Paula-PR/nyc-taxi-time-prediction.mlflow/#/experiments/1.\n",
      "\n"
     ]
    },
    {
     "name": "stdout",
     "output_type": "stream",
     "text": [
      " 70%|███████   | 7/10 [01:38<00:40, 13.45s/trial, best loss: 5.450624636267601]"
     ]
    },
    {
     "name": "stderr",
     "output_type": "stream",
     "text": [
      "2024/09/20 15:46:17 WARNING mlflow.sklearn: Failed to log training dataset information to MLflow Tracking. Reason: 'numpy.ndarray' object has no attribute 'toarray'\n",
      "\n",
      "2024/09/20 15:46:28 WARNING mlflow.utils.autologging_utils: Encountered unexpected error during sklearn autologging: The following failures occurred while performing one or more logging operations: [MlflowException('Failed to perform one or more operations on the run with ID c3f0223f81364829b3eb495693622b4a. Failed operations: [RestException(\"INVALID_PARAMETER_VALUE: Response: {\\'error_code\\': \\'INVALID_PARAMETER_VALUE\\'}\")]')]\n",
      "\n",
      "2024/09/20 15:46:29 INFO mlflow.tracking._tracking_service.client: 🏃 View run bittersweet-frog-498 at: https://dagshub.com/Maria-Paula-PR/nyc-taxi-time-prediction.mlflow/#/experiments/1/runs/c3f0223f81364829b3eb495693622b4a.\n",
      "\n",
      "2024/09/20 15:46:29 INFO mlflow.tracking._tracking_service.client: 🧪 View experiment at: https://dagshub.com/Maria-Paula-PR/nyc-taxi-time-prediction.mlflow/#/experiments/1.\n",
      "\n"
     ]
    },
    {
     "name": "stdout",
     "output_type": "stream",
     "text": [
      " 80%|████████  | 8/10 [01:51<00:26, 13.32s/trial, best loss: 5.450624636267601]"
     ]
    },
    {
     "name": "stderr",
     "output_type": "stream",
     "text": [
      "2024/09/20 15:46:30 WARNING mlflow.sklearn: Failed to log training dataset information to MLflow Tracking. Reason: 'numpy.ndarray' object has no attribute 'toarray'\n",
      "\n",
      "2024/09/20 15:46:40 WARNING mlflow.utils.autologging_utils: Encountered unexpected error during sklearn autologging: The following failures occurred while performing one or more logging operations: [MlflowException('Failed to perform one or more operations on the run with ID 14c35197f365406da457e674cc9f6da5. Failed operations: [RestException(\"INVALID_PARAMETER_VALUE: Response: {\\'error_code\\': \\'INVALID_PARAMETER_VALUE\\'}\")]')]\n",
      "\n",
      "2024/09/20 15:46:41 INFO mlflow.tracking._tracking_service.client: 🏃 View run clean-kit-414 at: https://dagshub.com/Maria-Paula-PR/nyc-taxi-time-prediction.mlflow/#/experiments/1/runs/14c35197f365406da457e674cc9f6da5.\n",
      "\n",
      "2024/09/20 15:46:41 INFO mlflow.tracking._tracking_service.client: 🧪 View experiment at: https://dagshub.com/Maria-Paula-PR/nyc-taxi-time-prediction.mlflow/#/experiments/1.\n",
      "\n"
     ]
    },
    {
     "name": "stdout",
     "output_type": "stream",
     "text": [
      " 90%|█████████ | 9/10 [02:03<00:12, 12.92s/trial, best loss: 5.450624636267601]"
     ]
    },
    {
     "name": "stderr",
     "output_type": "stream",
     "text": [
      "2024/09/20 15:46:42 WARNING mlflow.sklearn: Failed to log training dataset information to MLflow Tracking. Reason: 'numpy.ndarray' object has no attribute 'toarray'\n",
      "\n",
      "2024/09/20 15:46:56 WARNING mlflow.utils.autologging_utils: Encountered unexpected error during sklearn autologging: The following failures occurred while performing one or more logging operations: [MlflowException('Failed to perform one or more operations on the run with ID aba45471604546b19be6ba466cf74ed4. Failed operations: [RestException(\"INVALID_PARAMETER_VALUE: Response: {\\'error_code\\': \\'INVALID_PARAMETER_VALUE\\'}\")]')]\n",
      "\n",
      "2024/09/20 15:46:56 INFO mlflow.tracking._tracking_service.client: 🏃 View run brawny-lark-188 at: https://dagshub.com/Maria-Paula-PR/nyc-taxi-time-prediction.mlflow/#/experiments/1/runs/aba45471604546b19be6ba466cf74ed4.\n",
      "\n",
      "2024/09/20 15:46:56 INFO mlflow.tracking._tracking_service.client: 🧪 View experiment at: https://dagshub.com/Maria-Paula-PR/nyc-taxi-time-prediction.mlflow/#/experiments/1.\n",
      "\n"
     ]
    },
    {
     "name": "stdout",
     "output_type": "stream",
     "text": [
      "100%|██████████| 10/10 [02:19<00:00, 13.93s/trial, best loss: 5.435353486700445]\n"
     ]
    },
    {
     "name": "stderr",
     "output_type": "stream",
     "text": [
      "2024/09/20 15:46:57 INFO mlflow.tracking._tracking_service.client: 🏃 View run Parent Random Forest at: https://dagshub.com/Maria-Paula-PR/nyc-taxi-time-prediction.mlflow/#/experiments/1/runs/fa654f9fa42c4738b93d9d76a90253a4.\n",
      "2024/09/20 15:46:57 INFO mlflow.tracking._tracking_service.client: 🧪 View experiment at: https://dagshub.com/Maria-Paula-PR/nyc-taxi-time-prediction.mlflow/#/experiments/1.\n"
     ]
    }
   ],
   "source": [
    "mlflow.sklearn.autolog()\n",
    " \n",
    "def objective_rf(params):\n",
    "    with mlflow.start_run(nested=True):\n",
    "        # Set model tag\n",
    "        mlflow.set_tag(\"model_family\", \"random_forest\")\n",
    "        \n",
    "        # Log parameters\n",
    "        mlflow.log_params(params)\n",
    "        \n",
    "        # Train RandomForest model\n",
    "        rf_model = RandomForestRegressor(\n",
    "            n_estimators=int(params['n_estimators']),\n",
    "            max_depth=int(params['max_depth']),\n",
    "            min_samples_split=int(params['min_samples_split']),\n",
    "            min_samples_leaf=int(params['min_samples_leaf']),\n",
    "            random_state=42\n",
    "        )\n",
    "        rf_model.fit(X_train, y_train)\n",
    "        \n",
    "        # Predict on validation dataset\n",
    "        y_pred = rf_model.predict(X_val)\n",
    "        \n",
    "        # Calculate RMSE\n",
    "        rmse = np.sqrt(mean_squared_error(y_val, y_pred))\n",
    "        \n",
    "        # Log RMSE metric\n",
    "        mlflow.log_metric(\"rmse\", rmse)\n",
    " \n",
    "    return {'loss': rmse, 'status': STATUS_OK}\n",
    " \n",
    "# Define search space for RandomForest\n",
    "search_space_rf = {\n",
    "    'n_estimators': hp.quniform('n_estimators', 50, 100, 1),\n",
    "    'max_depth': hp.quniform('max_depth', 5, 10, 1),\n",
    "    'min_samples_split': hp.quniform('min_samples_split', 2, 8, 1),\n",
    "    'min_samples_leaf': hp.quniform('min_samples_leaf', 1, 2, 1),\n",
    "}\n",
    " \n",
    "# Run hyperparameter optimization\n",
    "with mlflow.start_run(run_name=\"Parent Random Forest\", nested=True):\n",
    "    best_params_rf = fmin(\n",
    "        fn=objective_rf,\n",
    "        space=search_space_rf,\n",
    "        algo=tpe.suggest,\n",
    "        max_evals=10,\n",
    "        trials=Trials()\n",
    "    )\n",
    "    \n",
    "    # Log best parameters\n",
    "    mlflow.log_params(best_params_rf)\n",
    " "
   ]
  },
  {
   "cell_type": "code",
   "execution_count": 13,
   "metadata": {},
   "outputs": [
    {
     "name": "stderr",
     "output_type": "stream",
     "text": [
      "Registered model 'nyc-taxi-model' already exists. Creating a new version of this model...\n",
      "2024/09/20 15:49:41 INFO mlflow.store.model_registry.abstract_store: Waiting up to 300 seconds for model version to finish creation. Model name: nyc-taxi-model, version 2\n",
      "Created version '2' of model 'nyc-taxi-model'.\n"
     ]
    }
   ],
   "source": [
    "run_id = input(\"Ingrese el run_id\")\n",
    "run_uri = f\"runs:/{run_id}/model\"\n",
    "\n",
    "result = mlflow.register_model(\n",
    "    model_uri=run_uri,\n",
    "    name=\"nyc-taxi-model\"\n",
    ")"
   ]
  },
  {
   "cell_type": "markdown",
   "metadata": {},
   "source": [
    "# gradient Boosting"
   ]
  },
  {
   "cell_type": "code",
   "execution_count": 14,
   "metadata": {},
   "outputs": [
    {
     "name": "stderr",
     "output_type": "stream",
     "text": [
      "2024/09/20 15:56:55 WARNING mlflow.utils.autologging_utils: MLflow sklearn autologging is known to be compatible with 0.24.1 <= scikit-learn <= 1.5.1, but the installed version is 1.5.2. If you encounter errors during autologging, try upgrading / downgrading scikit-learn to a compatible version, or try upgrading MLflow.\n"
     ]
    },
    {
     "name": "stdout",
     "output_type": "stream",
     "text": [
      "  0%|          | 0/10 [00:00<?, ?trial/s, best loss=?]"
     ]
    },
    {
     "name": "stderr",
     "output_type": "stream",
     "text": [
      "2024/09/20 15:56:56 WARNING mlflow.sklearn: Failed to log training dataset information to MLflow Tracking. Reason: 'numpy.ndarray' object has no attribute 'toarray'\n",
      "\n",
      "2024/09/20 15:57:07 WARNING mlflow.utils.autologging_utils: Encountered unexpected error during sklearn autologging: The following failures occurred while performing one or more logging operations: [MlflowException('Failed to perform one or more operations on the run with ID 779bc7d35b844649bc07023180aabeca. Failed operations: [RestException(\"INVALID_PARAMETER_VALUE: Response: {\\'error_code\\': \\'INVALID_PARAMETER_VALUE\\'}\")]')]\n",
      "\n",
      "2024/09/20 15:57:08 INFO mlflow.tracking._tracking_service.client: 🏃 View run crawling-goose-821 at: https://dagshub.com/Maria-Paula-PR/nyc-taxi-time-prediction.mlflow/#/experiments/1/runs/779bc7d35b844649bc07023180aabeca.\n",
      "\n",
      "2024/09/20 15:57:08 INFO mlflow.tracking._tracking_service.client: 🧪 View experiment at: https://dagshub.com/Maria-Paula-PR/nyc-taxi-time-prediction.mlflow/#/experiments/1.\n",
      "\n"
     ]
    },
    {
     "name": "stdout",
     "output_type": "stream",
     "text": [
      " 10%|█         | 1/10 [00:12<01:53, 12.62s/trial, best loss: 5.441902692404991]"
     ]
    },
    {
     "name": "stderr",
     "output_type": "stream",
     "text": [
      "2024/09/20 15:57:09 WARNING mlflow.sklearn: Failed to log training dataset information to MLflow Tracking. Reason: 'numpy.ndarray' object has no attribute 'toarray'\n",
      "\n",
      "2024/09/20 15:57:19 WARNING mlflow.utils.autologging_utils: Encountered unexpected error during sklearn autologging: The following failures occurred while performing one or more logging operations: [MlflowException('Failed to perform one or more operations on the run with ID 87fc083cec8349b6a2704de6deb34b76. Failed operations: [RestException(\"INVALID_PARAMETER_VALUE: Response: {\\'error_code\\': \\'INVALID_PARAMETER_VALUE\\'}\")]')]\n",
      "\n",
      "2024/09/20 15:57:19 INFO mlflow.tracking._tracking_service.client: 🏃 View run bittersweet-grub-240 at: https://dagshub.com/Maria-Paula-PR/nyc-taxi-time-prediction.mlflow/#/experiments/1/runs/87fc083cec8349b6a2704de6deb34b76.\n",
      "\n",
      "2024/09/20 15:57:19 INFO mlflow.tracking._tracking_service.client: 🧪 View experiment at: https://dagshub.com/Maria-Paula-PR/nyc-taxi-time-prediction.mlflow/#/experiments/1.\n",
      "\n"
     ]
    },
    {
     "name": "stdout",
     "output_type": "stream",
     "text": [
      " 20%|██        | 2/10 [00:23<01:34, 11.87s/trial, best loss: 5.418700803120237]"
     ]
    },
    {
     "name": "stderr",
     "output_type": "stream",
     "text": [
      "2024/09/20 15:57:20 WARNING mlflow.sklearn: Failed to log training dataset information to MLflow Tracking. Reason: 'numpy.ndarray' object has no attribute 'toarray'\n",
      "\n",
      "2024/09/20 15:57:34 WARNING mlflow.utils.autologging_utils: Encountered unexpected error during sklearn autologging: The following failures occurred while performing one or more logging operations: [MlflowException('Failed to perform one or more operations on the run with ID eb342df58a834b719569054168a116c3. Failed operations: [RestException(\"INVALID_PARAMETER_VALUE: Response: {\\'error_code\\': \\'INVALID_PARAMETER_VALUE\\'}\")]')]\n",
      "\n",
      "2024/09/20 15:57:35 INFO mlflow.tracking._tracking_service.client: 🏃 View run delightful-yak-423 at: https://dagshub.com/Maria-Paula-PR/nyc-taxi-time-prediction.mlflow/#/experiments/1/runs/eb342df58a834b719569054168a116c3.\n",
      "\n",
      "2024/09/20 15:57:35 INFO mlflow.tracking._tracking_service.client: 🧪 View experiment at: https://dagshub.com/Maria-Paula-PR/nyc-taxi-time-prediction.mlflow/#/experiments/1.\n",
      "\n"
     ]
    },
    {
     "name": "stdout",
     "output_type": "stream",
     "text": [
      " 30%|███       | 3/10 [00:39<01:34, 13.48s/trial, best loss: 5.390252493073788]"
     ]
    },
    {
     "name": "stderr",
     "output_type": "stream",
     "text": [
      "2024/09/20 15:57:36 WARNING mlflow.sklearn: Failed to log training dataset information to MLflow Tracking. Reason: 'numpy.ndarray' object has no attribute 'toarray'\n",
      "\n",
      "2024/09/20 15:57:47 WARNING mlflow.utils.autologging_utils: Encountered unexpected error during sklearn autologging: The following failures occurred while performing one or more logging operations: [MlflowException('Failed to perform one or more operations on the run with ID d4015ef4c6de4fa8b81977312fa7ba3e. Failed operations: [RestException(\"INVALID_PARAMETER_VALUE: Response: {\\'error_code\\': \\'INVALID_PARAMETER_VALUE\\'}\")]')]\n",
      "\n",
      "2024/09/20 15:57:48 INFO mlflow.tracking._tracking_service.client: 🏃 View run salty-conch-586 at: https://dagshub.com/Maria-Paula-PR/nyc-taxi-time-prediction.mlflow/#/experiments/1/runs/d4015ef4c6de4fa8b81977312fa7ba3e.\n",
      "\n",
      "2024/09/20 15:57:48 INFO mlflow.tracking._tracking_service.client: 🧪 View experiment at: https://dagshub.com/Maria-Paula-PR/nyc-taxi-time-prediction.mlflow/#/experiments/1.\n",
      "\n"
     ]
    },
    {
     "name": "stdout",
     "output_type": "stream",
     "text": [
      " 40%|████      | 4/10 [00:52<01:20, 13.48s/trial, best loss: 5.377202836696288]"
     ]
    },
    {
     "name": "stderr",
     "output_type": "stream",
     "text": [
      "2024/09/20 15:57:49 WARNING mlflow.sklearn: Failed to log training dataset information to MLflow Tracking. Reason: 'numpy.ndarray' object has no attribute 'toarray'\n",
      "\n",
      "2024/09/20 15:58:05 WARNING mlflow.utils.autologging_utils: Encountered unexpected error during sklearn autologging: The following failures occurred while performing one or more logging operations: [MlflowException('Failed to perform one or more operations on the run with ID a0c26d2bc3364d60a5660be3d01b9877. Failed operations: [RestException(\"INVALID_PARAMETER_VALUE: Response: {\\'error_code\\': \\'INVALID_PARAMETER_VALUE\\'}\")]')]\n",
      "\n",
      "2024/09/20 15:58:05 INFO mlflow.tracking._tracking_service.client: 🏃 View run beautiful-kit-296 at: https://dagshub.com/Maria-Paula-PR/nyc-taxi-time-prediction.mlflow/#/experiments/1/runs/a0c26d2bc3364d60a5660be3d01b9877.\n",
      "\n",
      "2024/09/20 15:58:05 INFO mlflow.tracking._tracking_service.client: 🧪 View experiment at: https://dagshub.com/Maria-Paula-PR/nyc-taxi-time-prediction.mlflow/#/experiments/1.\n",
      "\n"
     ]
    },
    {
     "name": "stdout",
     "output_type": "stream",
     "text": [
      " 50%|█████     | 5/10 [01:09<01:14, 14.81s/trial, best loss: 5.364124503514281]"
     ]
    },
    {
     "name": "stderr",
     "output_type": "stream",
     "text": [
      "2024/09/20 15:58:06 WARNING mlflow.sklearn: Failed to log training dataset information to MLflow Tracking. Reason: 'numpy.ndarray' object has no attribute 'toarray'\n",
      "\n",
      "2024/09/20 15:58:17 WARNING mlflow.utils.autologging_utils: Encountered unexpected error during sklearn autologging: The following failures occurred while performing one or more logging operations: [MlflowException('Failed to perform one or more operations on the run with ID 202d9b9fed6e45cabb006e8418b3fe3c. Failed operations: [RestException(\"INVALID_PARAMETER_VALUE: Response: {\\'error_code\\': \\'INVALID_PARAMETER_VALUE\\'}\")]')]\n",
      "\n",
      "2024/09/20 15:58:17 INFO mlflow.tracking._tracking_service.client: 🏃 View run painted-mouse-913 at: https://dagshub.com/Maria-Paula-PR/nyc-taxi-time-prediction.mlflow/#/experiments/1/runs/202d9b9fed6e45cabb006e8418b3fe3c.\n",
      "\n",
      "2024/09/20 15:58:17 INFO mlflow.tracking._tracking_service.client: 🧪 View experiment at: https://dagshub.com/Maria-Paula-PR/nyc-taxi-time-prediction.mlflow/#/experiments/1.\n",
      "\n"
     ]
    },
    {
     "name": "stdout",
     "output_type": "stream",
     "text": [
      " 60%|██████    | 6/10 [01:22<00:55, 13.88s/trial, best loss: 5.364124503514281]"
     ]
    },
    {
     "name": "stderr",
     "output_type": "stream",
     "text": [
      "2024/09/20 15:58:18 WARNING mlflow.sklearn: Failed to log training dataset information to MLflow Tracking. Reason: 'numpy.ndarray' object has no attribute 'toarray'\n",
      "\n",
      "2024/09/20 15:58:32 WARNING mlflow.utils.autologging_utils: Encountered unexpected error during sklearn autologging: The following failures occurred while performing one or more logging operations: [MlflowException('Failed to perform one or more operations on the run with ID 03933df389ef42b7b9a5567b6bc07515. Failed operations: [RestException(\"INVALID_PARAMETER_VALUE: Response: {\\'error_code\\': \\'INVALID_PARAMETER_VALUE\\'}\")]')]\n",
      "\n",
      "2024/09/20 15:58:33 INFO mlflow.tracking._tracking_service.client: 🏃 View run thoughtful-fowl-529 at: https://dagshub.com/Maria-Paula-PR/nyc-taxi-time-prediction.mlflow/#/experiments/1/runs/03933df389ef42b7b9a5567b6bc07515.\n",
      "\n",
      "2024/09/20 15:58:33 INFO mlflow.tracking._tracking_service.client: 🧪 View experiment at: https://dagshub.com/Maria-Paula-PR/nyc-taxi-time-prediction.mlflow/#/experiments/1.\n",
      "\n"
     ]
    },
    {
     "name": "stdout",
     "output_type": "stream",
     "text": [
      " 70%|███████   | 7/10 [01:37<00:43, 14.38s/trial, best loss: 5.364124503514281]"
     ]
    },
    {
     "name": "stderr",
     "output_type": "stream",
     "text": [
      "2024/09/20 15:58:34 WARNING mlflow.sklearn: Failed to log training dataset information to MLflow Tracking. Reason: 'numpy.ndarray' object has no attribute 'toarray'\n",
      "\n",
      "2024/09/20 15:58:48 WARNING mlflow.utils.autologging_utils: Encountered unexpected error during sklearn autologging: The following failures occurred while performing one or more logging operations: [MlflowException('Failed to perform one or more operations on the run with ID eaf16c57593d419b90f686bd53d4095a. Failed operations: [RestException(\"INVALID_PARAMETER_VALUE: Response: {\\'error_code\\': \\'INVALID_PARAMETER_VALUE\\'}\")]')]\n",
      "\n",
      "2024/09/20 15:58:49 INFO mlflow.tracking._tracking_service.client: 🏃 View run amazing-dog-955 at: https://dagshub.com/Maria-Paula-PR/nyc-taxi-time-prediction.mlflow/#/experiments/1/runs/eaf16c57593d419b90f686bd53d4095a.\n",
      "\n",
      "2024/09/20 15:58:49 INFO mlflow.tracking._tracking_service.client: 🧪 View experiment at: https://dagshub.com/Maria-Paula-PR/nyc-taxi-time-prediction.mlflow/#/experiments/1.\n",
      "\n"
     ]
    },
    {
     "name": "stdout",
     "output_type": "stream",
     "text": [
      " 80%|████████  | 8/10 [01:53<00:29, 14.93s/trial, best loss: 5.364124503514281]"
     ]
    },
    {
     "name": "stderr",
     "output_type": "stream",
     "text": [
      "2024/09/20 15:58:50 WARNING mlflow.sklearn: Failed to log training dataset information to MLflow Tracking. Reason: 'numpy.ndarray' object has no attribute 'toarray'\n",
      "\n",
      "2024/09/20 15:59:01 WARNING mlflow.utils.autologging_utils: Encountered unexpected error during sklearn autologging: The following failures occurred while performing one or more logging operations: [MlflowException('Failed to perform one or more operations on the run with ID 3737b54664504a889ae891494d6c7598. Failed operations: [RestException(\"INVALID_PARAMETER_VALUE: Response: {\\'error_code\\': \\'INVALID_PARAMETER_VALUE\\'}\")]')]\n",
      "\n",
      "2024/09/20 15:59:02 INFO mlflow.tracking._tracking_service.client: 🏃 View run popular-ant-920 at: https://dagshub.com/Maria-Paula-PR/nyc-taxi-time-prediction.mlflow/#/experiments/1/runs/3737b54664504a889ae891494d6c7598.\n",
      "\n",
      "2024/09/20 15:59:02 INFO mlflow.tracking._tracking_service.client: 🧪 View experiment at: https://dagshub.com/Maria-Paula-PR/nyc-taxi-time-prediction.mlflow/#/experiments/1.\n",
      "\n"
     ]
    },
    {
     "name": "stdout",
     "output_type": "stream",
     "text": [
      " 90%|█████████ | 9/10 [02:06<00:14, 14.25s/trial, best loss: 5.364124503514281]"
     ]
    },
    {
     "name": "stderr",
     "output_type": "stream",
     "text": [
      "2024/09/20 15:59:02 WARNING mlflow.sklearn: Failed to log training dataset information to MLflow Tracking. Reason: 'numpy.ndarray' object has no attribute 'toarray'\n",
      "\n",
      "2024/09/20 15:59:12 WARNING mlflow.utils.autologging_utils: Encountered unexpected error during sklearn autologging: The following failures occurred while performing one or more logging operations: [MlflowException('Failed to perform one or more operations on the run with ID 78c323e4fdad4f78a20690de33fef555. Failed operations: [RestException(\"INVALID_PARAMETER_VALUE: Response: {\\'error_code\\': \\'INVALID_PARAMETER_VALUE\\'}\")]')]\n",
      "\n",
      "2024/09/20 15:59:12 INFO mlflow.tracking._tracking_service.client: 🏃 View run overjoyed-worm-149 at: https://dagshub.com/Maria-Paula-PR/nyc-taxi-time-prediction.mlflow/#/experiments/1/runs/78c323e4fdad4f78a20690de33fef555.\n",
      "\n",
      "2024/09/20 15:59:12 INFO mlflow.tracking._tracking_service.client: 🧪 View experiment at: https://dagshub.com/Maria-Paula-PR/nyc-taxi-time-prediction.mlflow/#/experiments/1.\n",
      "\n"
     ]
    },
    {
     "name": "stdout",
     "output_type": "stream",
     "text": [
      "100%|██████████| 10/10 [02:16<00:00, 13.70s/trial, best loss: 5.364124503514281]\n"
     ]
    },
    {
     "name": "stderr",
     "output_type": "stream",
     "text": [
      "2024/09/20 15:59:13 INFO mlflow.tracking._tracking_service.client: 🏃 View run Parent Gradient Boosting at: https://dagshub.com/Maria-Paula-PR/nyc-taxi-time-prediction.mlflow/#/experiments/1/runs/e9737cea7bf64e928d68ba6c363b58c1.\n",
      "2024/09/20 15:59:13 INFO mlflow.tracking._tracking_service.client: 🧪 View experiment at: https://dagshub.com/Maria-Paula-PR/nyc-taxi-time-prediction.mlflow/#/experiments/1.\n"
     ]
    }
   ],
   "source": [
    "mlflow.sklearn.autolog()\n",
    "from sklearn.ensemble import GradientBoostingRegressor, RandomForestRegressor\n",
    " \n",
    "def objective_gb(params):\n",
    "    with mlflow.start_run(nested=True):\n",
    "        # Set model tag\n",
    "        mlflow.set_tag(\"model_family\", \"gradient_boosting\")\n",
    "        \n",
    "        # Log parameters\n",
    "        mlflow.log_params(params)\n",
    "        \n",
    "        # Train GradientBoosting model\n",
    "        gb_model = GradientBoostingRegressor(\n",
    "            n_estimators=int(params['n_estimators']),\n",
    "            max_depth=int(params['max_depth']),\n",
    "            min_samples_split=int(params['min_samples_split']),\n",
    "            min_samples_leaf=int(params['min_samples_leaf']),\n",
    "            learning_rate=float(params['learning_rate']),\n",
    "            random_state=42\n",
    "        )\n",
    "        gb_model.fit(X_train, y_train)\n",
    "        \n",
    "        # Predict on validation dataset\n",
    "        y_pred = gb_model.predict(X_val)\n",
    "        \n",
    "        # Calculate RMSE\n",
    "        rmse = np.sqrt(mean_squared_error(y_val, y_pred))\n",
    "        \n",
    "        # Log RMSE metric\n",
    "        mlflow.log_metric(\"rmse\", rmse)\n",
    " \n",
    "    return {'loss': rmse, 'status': STATUS_OK}\n",
    " \n",
    "# Define search space for GradientBoosting\n",
    "search_space_gb = {\n",
    "    'n_estimators': hp.quniform('n_estimators', 50, 120, 1),\n",
    "    'max_depth': hp.quniform('max_depth', 3, 8, 1),\n",
    "    'min_samples_split': hp.quniform('min_samples_split', 2, 6, 1),\n",
    "    'min_samples_leaf': hp.quniform('min_samples_leaf', 1, 2, 1),\n",
    "    'learning_rate': hp.uniform('learning_rate', 0.01, 0.1)\n",
    "}\n",
    " \n",
    "# Run hyperparameter optimization for GradientBoosting\n",
    "with mlflow.start_run(run_name=\"Parent Gradient Boosting\", nested=True):\n",
    "    best_params_gb = fmin(\n",
    "        fn=objective_gb,\n",
    "        space=search_space_gb,\n",
    "        algo=tpe.suggest,\n",
    "        max_evals=10,\n",
    "        trials=Trials()\n",
    "    )\n",
    "    \n",
    "    # Log best parameters\n",
    "    mlflow.log_params(best_params_gb)"
   ]
  },
  {
   "cell_type": "code",
   "execution_count": 17,
   "metadata": {},
   "outputs": [
    {
     "name": "stderr",
     "output_type": "stream",
     "text": [
      "Registered model 'nyc-taxi-model' already exists. Creating a new version of this model...\n",
      "2024/09/20 16:02:32 INFO mlflow.store.model_registry.abstract_store: Waiting up to 300 seconds for model version to finish creation. Model name: nyc-taxi-model, version 3\n",
      "Created version '3' of model 'nyc-taxi-model'.\n"
     ]
    }
   ],
   "source": [
    "run_id = input(\"Ingrese el run_id\")\n",
    "run_uri = f\"runs:/{run_id}/model\"\n",
    "\n",
    "result = mlflow.register_model(\n",
    "    model_uri=run_uri,\n",
    "    name=\"nyc-taxi-model\"\n",
    ")"
   ]
  },
  {
   "cell_type": "markdown",
   "metadata": {},
   "source": [
    "El mejor modelo era el challenger anterior, ya que tiene mejor metrica entonces nos quedamos con ese. "
   ]
  }
 ],
 "metadata": {
  "kernelspec": {
   "display_name": "Python 3",
   "language": "python",
   "name": "python3"
  },
  "language_info": {
   "codemirror_mode": {
    "name": "ipython",
    "version": 3
   },
   "file_extension": ".py",
   "mimetype": "text/x-python",
   "name": "python",
   "nbconvert_exporter": "python",
   "pygments_lexer": "ipython3",
   "version": "3.12.0"
  }
 },
 "nbformat": 4,
 "nbformat_minor": 2
}
